{
 "cells": [
  {
   "cell_type": "code",
   "execution_count": null,
   "id": "4d23b19d",
   "metadata": {},
   "outputs": [
    {
     "name": "stderr",
     "output_type": "stream",
     "text": [
      "100%|████████████████████████████████████████| 338M/338M [24:23<00:00, 242kiB/s]\n"
     ]
    },
    {
     "name": "stdout",
     "output_type": "stream",
     "text": [
      "Best Match: img1.jpg (Similarity: 0.3454)\n"
     ]
    }
   ],
   "source": [
    "import torch\n",
    "import clip\n",
    "from PIL import Image\n",
    "import os\n",
    "\n",
    "# Load the CLIP model\n",
    "device = \"cuda\" if torch.cuda.is_available() else \"cpu\"\n",
    "model, preprocess = clip.load(\"ViT-B/32\", device=device)\n",
    "\n",
    "# Encode all images in a folder\n",
    "def encode_images(folder_path):\n",
    "    embeddings = {}\n",
    "    for file_name in os.listdir(folder_path):\n",
    "        if file_name.lower().endswith(('.png', '.jpg', '.jpeg')):\n",
    "            image_path = os.path.join(folder_path, file_name)\n",
    "            image = preprocess(Image.open(image_path).convert(\"RGB\")).unsqueeze(0).to(device)\n",
    "            with torch.no_grad():\n",
    "                image_embedding = model.encode_image(image).float()\n",
    "                image_embedding /= image_embedding.norm(dim=-1, keepdim=True)\n",
    "            embeddings[file_name] = image_embedding\n",
    "    return embeddings\n",
    "\n",
    "# Find the closest image match to the text\n",
    "def find_best_match(text_query, image_embeddings):\n",
    "    # Encode the text\n",
    "    text_tokens = clip.tokenize([text_query]).to(device)\n",
    "    with torch.no_grad():\n",
    "        text_embedding = model.encode_text(text_tokens).float()\n",
    "        text_embedding /= text_embedding.norm(dim=-1, keepdim=True)\n",
    "    \n",
    "    # Compare text to each image embedding\n",
    "    best_match = None\n",
    "    best_score = -1\n",
    "\n",
    "    for image_name, image_embedding in image_embeddings.items():\n",
    "        similarity = torch.cosine_similarity(text_embedding, image_embedding).item()\n",
    "        if similarity > best_score:\n",
    "            best_score = similarity\n",
    "            best_match = image_name\n",
    "\n",
    "    return best_match, best_score\n",
    "\n",
    "# Example usage\n",
    "if __name__ == \"__main__\":\n",
    "    image_folder = \"lost_items\"  # Folder with lost item images\n",
    "    text_query = \"red backpack with a water bottle\"  # User’s search description\n",
    "\n",
    "    # Encode images and search\n",
    "    image_embeddings = encode_images(image_folder)\n",
    "    best_match, score = find_best_match(text_query, image_embeddings)\n",
    "\n",
    "    # Show result\n",
    "    if best_match:\n",
    "        print(f\"Best Match: {best_match} (Similarity: {score:.4f})\")\n",
    "        Image.open(os.path.join(image_folder, best_match)).show()\n",
    "    else:\n",
    "        print(\"No match found!\")\n"
   ]
  },
  {
   "cell_type": "code",
   "execution_count": null,
   "id": "c9c17032",
   "metadata": {},
   "outputs": [],
   "source": [
    "#pip install git+https://github.com/openai/CLIP.git"
   ]
  },
  {
   "cell_type": "code",
   "execution_count": null,
   "id": "bdd29d69",
   "metadata": {},
   "outputs": [],
   "source": [
    "if __name__ == \"__main__\":\n",
    "    image_folder = \"lost_items\"  # Folder with lost item images\n",
    "    text_query = \"duck\"  # User’s search description\n",
    "\n",
    "    # Encode images and search\n",
    "    image_embeddings = encode_images(image_folder)\n",
    "    best_match, score = find_best_match(text_query, image_embeddings)\n",
    "\n",
    "    # Show result\n",
    "    if best_match:\n",
    "        print(f\"Best Match: {best_match} (Similarity: {score:.4f})\")\n",
    "        Image.open(os.path.join(image_folder, best_match)).show()\n",
    "    else:\n",
    "        print(\"No match found!\")"
   ]
  },
  {
   "cell_type": "code",
   "execution_count": null,
   "id": "ceb45029",
   "metadata": {},
   "outputs": [],
   "source": []
  }
 ],
 "metadata": {
  "kernelspec": {
   "display_name": "Python 3 (ipykernel)",
   "language": "python",
   "name": "python3"
  },
  "language_info": {
   "codemirror_mode": {
    "name": "ipython",
    "version": 3
   },
   "file_extension": ".py",
   "mimetype": "text/x-python",
   "name": "python",
   "nbconvert_exporter": "python",
   "pygments_lexer": "ipython3",
   "version": "3.11.5"
  }
 },
 "nbformat": 4,
 "nbformat_minor": 5
}
